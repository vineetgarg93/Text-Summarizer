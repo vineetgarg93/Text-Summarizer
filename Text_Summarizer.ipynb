{
 "cells": [
  {
   "cell_type": "code",
   "execution_count": 49,
   "metadata": {},
   "outputs": [],
   "source": [
    "import get_summary\n",
    "import imp"
   ]
  },
  {
   "cell_type": "code",
   "execution_count": 50,
   "metadata": {},
   "outputs": [],
   "source": [
    "# import requests\n",
    "# text = requests.get('http://rare-technologies.com/the_matrix_synopsis.txt').text"
   ]
  },
  {
   "cell_type": "code",
   "execution_count": 51,
   "metadata": {
    "scrolled": true
   },
   "outputs": [
    {
     "name": "stdout",
     "output_type": "stream",
     "text": [
      "[\"Ludhiana is a city and a municipal corporation in Ludhiana district in the Indian state of Punjab, and India's largest city north of Delhi, with an area of 310sq.\", 'Ludhiana is home to the largest agricultural university in Asia[citation needed] and one of the largest in the world, Punjab Agricultural University.[14] The College of Veterinary Sciences at PAU was recently upgraded to the Guru Angad Dev Veterinary and Animal Sciences University (GADVASU).']\n"
     ]
    }
   ],
   "source": [
    "imp.reload(get_summary)\n",
    "summary = get_summary.get_summary(\"https://en.wikipedia.org/wiki/Ludhiana\",False)"
   ]
  }
 ],
 "metadata": {
  "kernelspec": {
   "display_name": "Python 3",
   "language": "python",
   "name": "python3"
  },
  "language_info": {
   "codemirror_mode": {
    "name": "ipython",
    "version": 3
   },
   "file_extension": ".py",
   "mimetype": "text/x-python",
   "name": "python",
   "nbconvert_exporter": "python",
   "pygments_lexer": "ipython3",
   "version": "3.6.4"
  }
 },
 "nbformat": 4,
 "nbformat_minor": 2
}
